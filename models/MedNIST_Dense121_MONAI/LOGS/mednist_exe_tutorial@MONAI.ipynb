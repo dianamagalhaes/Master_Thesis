{
 "cells": [
  {
   "cell_type": "markdown",
   "metadata": {
    "id": "-N9qwb3X1mDX"
   },
   "source": [
    "# Medical Image Classification Tutorial with the MedNIST Dataset\n",
    "\n",
    "In this tutorial, we introduce an end-to-end training and evaluation example based on the MedNIST dataset.\n",
    "\n",
    "We'll go through the following steps:\n",
    "* Create a dataset for training and testing\n",
    "* Use MONAI transforms to pre-process data\n",
    "* Use the DenseNet from MONAI for classification\n",
    "* Train the model with a PyTorch program\n",
    "* Evaluate on test dataset\n",
    "\n",
    "[![Open In Colab](https://colab.research.google.com/assets/colab-badge.svg)](https://colab.research.google.com/github/Project-MONAI/tutorials/blob/main/2d_classification/mednist_tutorial.ipynb)"
   ]
  },
  {
   "cell_type": "markdown",
   "metadata": {
    "id": "ov0Cajly1mDb"
   },
   "source": [
    "## Setup environment"
   ]
  },
  {
   "cell_type": "code",
   "execution_count": 30,
   "metadata": {
    "id": "40KVTdMU1mDc"
   },
   "outputs": [],
   "source": [
    "!python -c \"import monai\" || pip install -q \"monai-weekly[pillow, tqdm]\"\n",
    "!python -c \"import matplotlib\" || pip install -q matplotlib\n",
    "%matplotlib inline"
   ]
  },
  {
   "cell_type": "markdown",
   "metadata": {
    "id": "KnbjQDUe1mDd"
   },
   "source": [
    "## Setup imports"
   ]
  },
  {
   "cell_type": "code",
   "execution_count": 31,
   "metadata": {
    "colab": {
     "base_uri": "https://localhost:8080/"
    },
    "id": "a2gArlAO1mDd",
    "outputId": "fa09405f-39f5-4a68-f32b-1f7b34242c13",
    "tags": []
   },
   "outputs": [
    {
     "name": "stdout",
     "output_type": "stream",
     "text": [
      "MONAI version: 0.9.dev2224\n",
      "Numpy version: 1.21.6\n",
      "Pytorch version: 1.11.0+cu113\n",
      "MONAI flags: HAS_EXT = False, USE_COMPILED = False\n",
      "MONAI rev id: cb6ecb1a22042d4a559b864e74c64d99352dcf7c\n",
      "MONAI __file__: /usr/local/lib/python3.7/dist-packages/monai/__init__.py\n",
      "\n",
      "Optional dependencies:\n",
      "Pytorch Ignite version: NOT INSTALLED or UNKNOWN VERSION.\n",
      "Nibabel version: 3.0.2\n",
      "scikit-image version: 0.18.3\n",
      "Pillow version: 7.1.2\n",
      "Tensorboard version: 2.8.0\n",
      "gdown version: 4.4.0\n",
      "TorchVision version: 0.12.0+cu113\n",
      "tqdm version: 4.64.0\n",
      "lmdb version: 0.99\n",
      "psutil version: 5.4.8\n",
      "pandas version: 1.3.5\n",
      "einops version: NOT INSTALLED or UNKNOWN VERSION.\n",
      "transformers version: NOT INSTALLED or UNKNOWN VERSION.\n",
      "mlflow version: NOT INSTALLED or UNKNOWN VERSION.\n",
      "pynrrd version: NOT INSTALLED or UNKNOWN VERSION.\n",
      "\n",
      "For details about installing the optional dependencies, please visit:\n",
      "    https://docs.monai.io/en/latest/installation.html#installing-the-recommended-dependencies\n",
      "\n"
     ]
    }
   ],
   "source": [
    "# Copyright 2020 MONAI Consortium\n",
    "# Licensed under the Apache License, Version 2.0 (the \"License\");\n",
    "# you may not use this file except in compliance with the License.\n",
    "# You may obtain a copy of the License at\n",
    "#     http://www.apache.org/licenses/LICENSE-2.0\n",
    "# Unless required by applicable law or agreed to in writing, software\n",
    "# distributed under the License is distributed on an \"AS IS\" BASIS,\n",
    "# WITHOUT WARRANTIES OR CONDITIONS OF ANY KIND, either express or implied.\n",
    "# See the License for the specific language governing permissions and\n",
    "# limitations under the License.\n",
    "\n",
    "import os\n",
    "import shutil\n",
    "import tempfile\n",
    "import matplotlib.pyplot as plt\n",
    "import PIL\n",
    "import torch\n",
    "import numpy as np\n",
    "from sklearn.metrics import classification_report\n",
    "\n",
    "from monai.apps import download_and_extract\n",
    "from monai.config import print_config\n",
    "from monai.data import decollate_batch\n",
    "from monai.metrics import ROCAUCMetric\n",
    "from monai.networks.nets import DenseNet121\n",
    "from monai.transforms import (\n",
    "    Activations,\n",
    "    AddChannel,\n",
    "    AsDiscrete,\n",
    "    Compose,\n",
    "    LoadImage,\n",
    "    RandFlip,\n",
    "    RandRotate,\n",
    "    RandZoom,\n",
    "    ScaleIntensity,\n",
    "    EnsureType,\n",
    ")\n",
    "from monai.utils import set_determinism\n",
    "\n",
    "print_config()"
   ]
  },
  {
   "cell_type": "markdown",
   "metadata": {
    "id": "TDOlWtWu1mDf"
   },
   "source": [
    "## Setup data directory\n",
    "\n",
    "You can specify a directory with the `MONAI_DATA_DIRECTORY` environment variable.  \n",
    "This allows you to save results and reuse downloads.  \n",
    "If not specified a temporary directory will be used."
   ]
  },
  {
   "cell_type": "code",
   "execution_count": 32,
   "metadata": {
    "id": "Idu-qDEP1mDg",
    "tags": []
   },
   "outputs": [],
   "source": [
    "\n",
    "root_dir = \"/home/monai_dir/\"\n"
   ]
  },
  {
   "cell_type": "markdown",
   "metadata": {
    "id": "-AFm58jB1mDg"
   },
   "source": [
    "## Download dataset\n",
    "\n",
    "The MedNIST dataset was gathered from several sets from [TCIA](https://wiki.cancerimagingarchive.net/display/Public/Data+Usage+Policies+and+Restrictions),\n",
    "[the RSNA Bone Age Challenge](http://rsnachallenges.cloudapp.net/competitions/4),\n",
    "and [the NIH Chest X-ray dataset](https://cloud.google.com/healthcare/docs/resources/public-datasets/nih-chest).\n",
    "\n",
    "The dataset is kindly made available by [Dr. Bradley J. Erickson M.D., Ph.D.](https://www.mayo.edu/research/labs/radiology-informatics/overview) (Department of Radiology, Mayo Clinic)\n",
    "under the Creative Commons [CC BY-SA 4.0 license](https://creativecommons.org/licenses/by-sa/4.0/).\n",
    "\n",
    "If you use the MedNIST dataset, please acknowledge the source."
   ]
  },
  {
   "cell_type": "code",
   "execution_count": 33,
   "metadata": {
    "colab": {
     "base_uri": "https://localhost:8080/"
    },
    "id": "Ho1vI8pK1mDh",
    "outputId": "1df47ec7-6380-449f-8966-31bd6f2d860a",
    "tags": []
   },
   "outputs": [
    {
     "name": "stderr",
     "output_type": "stream",
     "text": [
      "MedNIST.tar.gz: 59.0MB [00:00, 95.7MB/s]                           "
     ]
    },
    {
     "name": "stdout",
     "output_type": "stream",
     "text": [
      "2022-06-15 13:59:09,572 - INFO - Downloaded: /home/monai_dir/MedNIST.tar.gz\n"
     ]
    },
    {
     "name": "stderr",
     "output_type": "stream",
     "text": [
      "\n"
     ]
    },
    {
     "name": "stdout",
     "output_type": "stream",
     "text": [
      "2022-06-15 13:59:09,724 - INFO - Verified 'MedNIST.tar.gz', md5: 0bc7306e7427e00ad1c5526a6677552d.\n",
      "2022-06-15 13:59:09,727 - INFO - Writing into directory: /home/monai_dir/.\n"
     ]
    }
   ],
   "source": [
    "resource = \"https://github.com/Project-MONAI/MONAI-extra-test-data/releases/download/0.8.1/MedNIST.tar.gz\"\n",
    "md5 = \"0bc7306e7427e00ad1c5526a6677552d\"\n",
    "\n",
    "compressed_file = os.path.join(root_dir, \"MedNIST.tar.gz\")\n",
    "data_dir = os.path.join(root_dir, \"MedNIST\")\n",
    "if not os.path.exists(data_dir):\n",
    "    download_and_extract(resource, compressed_file, root_dir, md5)"
   ]
  },
  {
   "cell_type": "markdown",
   "metadata": {
    "id": "2566DwwP1mDi"
   },
   "source": [
    "## Set deterministic training for reproducibility"
   ]
  },
  {
   "cell_type": "code",
   "execution_count": 34,
   "metadata": {
    "id": "aPxaFXf71mDj"
   },
   "outputs": [],
   "source": [
    "set_determinism(seed=0)"
   ]
  },
  {
   "cell_type": "markdown",
   "metadata": {
    "id": "ndr6jbMN1mDj"
   },
   "source": [
    "## Read image filenames from the dataset folders\n",
    "\n",
    "First of all, check the dataset files and show some statistics.  \n",
    "There are 6 folders in the dataset: Hand, AbdomenCT, CXR, ChestCT, BreastMRI, HeadCT,  \n",
    "which should be used as the labels to train our classification model."
   ]
  },
  {
   "cell_type": "code",
   "execution_count": 35,
   "metadata": {
    "colab": {
     "base_uri": "https://localhost:8080/"
    },
    "id": "T3WOjnYB1mDj",
    "outputId": "a25e82f8-daf2-4331-c3ef-8c1406890abb",
    "tags": []
   },
   "outputs": [
    {
     "name": "stdout",
     "output_type": "stream",
     "text": [
      "Total image count: 58954\n",
      "Image dimensions: 64 x 64\n",
      "Label names: ['AbdomenCT', 'BreastMRI', 'CXR', 'ChestCT', 'Hand', 'HeadCT']\n",
      "Label counts: [10000, 8954, 10000, 10000, 10000, 10000]\n"
     ]
    }
   ],
   "source": [
    "class_names = sorted(x for x in os.listdir(data_dir)\n",
    "                     if os.path.isdir(os.path.join(data_dir, x)))\n",
    "num_class = len(class_names)\n",
    "image_files = [\n",
    "    [\n",
    "        os.path.join(data_dir, class_names[i], x)\n",
    "        for x in os.listdir(os.path.join(data_dir, class_names[i]))\n",
    "    ]\n",
    "    for i in range(num_class)\n",
    "]\n",
    "num_each = [len(image_files[i]) for i in range(num_class)]\n",
    "image_files_list = []\n",
    "image_class = []\n",
    "for i in range(num_class):\n",
    "    image_files_list.extend(image_files[i])\n",
    "    image_class.extend([i] * num_each[i])\n",
    "num_total = len(image_class)\n",
    "image_width, image_height = PIL.Image.open(image_files_list[0]).size\n",
    "\n",
    "print(f\"Total image count: {num_total}\")\n",
    "print(f\"Image dimensions: {image_width} x {image_height}\")\n",
    "print(f\"Label names: {class_names}\")\n",
    "print(f\"Label counts: {num_each}\")"
   ]
  },
  {
   "cell_type": "markdown",
   "metadata": {
    "id": "DBEsuozz1mDk"
   },
   "source": [
    "## Randomly pick images from the dataset to visualize and check"
   ]
  },
  {
   "cell_type": "code",
   "execution_count": 36,
   "metadata": {
    "colab": {
     "base_uri": "https://localhost:8080/",
     "height": 585
    },
    "id": "obGLCXci1mDk",
    "outputId": "3727af07-178a-413a-d6f8-86cad589fc66"
   },
   "outputs": [
    {
     "data": {
      "image/png": "[encoded data removed]",
      "text/plain": [
       "<Figure size 576x576 with 9 Axes>"
      ]
     },
     "metadata": {
      "needs_background": "light"
     },
     "output_type": "display_data"
    }
   ],
   "source": [
    "plt.subplots(3, 3, figsize=(8, 8))\n",
    "for i, k in enumerate(np.random.randint(num_total, size=9)):\n",
    "    im = PIL.Image.open(image_files_list[k])\n",
    "    arr = np.array(im)\n",
    "    plt.subplot(3, 3, i + 1)\n",
    "    plt.xlabel(class_names[image_class[k]])\n",
    "    plt.imshow(arr, cmap=\"gray\", vmin=0, vmax=255)\n",
    "plt.tight_layout()\n",
    "plt.show()"
   ]
  },
  {
   "cell_type": "markdown",
   "metadata": {
    "id": "Ks9zKVRn1mDk"
   },
   "source": [
    "## Prepare training, validation and test data lists\n",
    "\n",
    "Randomly select 10% of the dataset as validation and 10% as test."
   ]
  },
  {
   "cell_type": "code",
   "execution_count": 37,
   "metadata": {
    "colab": {
     "base_uri": "https://localhost:8080/",
     "height": 122
    },
    "id": "YLzrZrQo1mDl",
    "outputId": "e3a1ef37-1ed6-4e4f-a87d-867b760904ff",
    "tags": []
   },
   "outputs": [
    {
     "name": "stdout",
     "output_type": "stream",
     "text": [
      "Training samples: 35372\n",
      "Validation samples: 11790\n"
     ]
    },
    {
     "data": {
      "application/vnd.google.colaboratory.intrinsic+json": {
       "type": "string"
      },
      "text/plain": [
       "'\\n# ---- Monoai\\'s Tutorial code\\ntest_split = int(test_frac * length)\\nval_split = int(val_frac * length) + test_split\\ntest_indices = indices[:test_split]\\nval_indices = indices[test_split:val_split]\\ntrain_indices = indices[val_split:]\\n\\ntrain_x = [image_files_list[i] for i in train_indices]\\ntrain_y = [image_class[i] for i in train_indices]\\nval_x = [image_files_list[i] for i in val_indices]\\nval_y = [image_class[i] for i in val_indices]\\ntest_x = [image_files_list[i] for i in test_indices]\\ntest_y = [image_class[i] for i in test_indices]\\n\\nprint(\\n    f\"Training count: {len(train_x)}, Validation count: \"\\n    f\"{len(val_x)}, Test count: {len(test_x)}\")\\n'"
      ]
     },
     "execution_count": 37,
     "metadata": {},
     "output_type": "execute_result"
    }
   ],
   "source": [
    "train_frac = 0.6\n",
    "val_frac = 0.2\n",
    "test_frac = 0.2\n",
    "\n",
    "\n",
    "length = len(image_files_list)\n",
    "indices = np.arange(length)\n",
    "\n",
    "# Adriano's code to grant that the same samples used for test are the same as in torch_ava\n",
    "idx = list(range(length))\n",
    "\n",
    "train_ptr = int(np.floor(train_frac * length))\n",
    "val_ptr = int(np.floor(val_frac * length))\n",
    "\n",
    "np.random.seed(2022)\n",
    "np.random.shuffle(idx)\n",
    "\n",
    "train_idx, val_idx, test_idx = (\n",
    "    idx[:train_ptr],\n",
    "    idx[train_ptr : (train_ptr + val_ptr)],\n",
    "    idx[(train_ptr + val_ptr) :],\n",
    ")\n",
    "print(\"Training samples:\", train_ptr)\n",
    "print(\"Validation samples:\", val_ptr)\n",
    "\n",
    "train_x, train_y =  [image_files_list[i] for i in train_idx],  [image_class[i] for i in train_idx]\n",
    "val_x, val_y = [image_files_list[i] for i in val_idx],  [image_class[i] for i in val_idx]\n",
    "test_x, test_y = [image_files_list[i] for i in test_idx],  [image_class[i] for i in test_idx]\n",
    "\n",
    "\"\"\"\n",
    "# ---- Monoai's Tutorial code\n",
    "test_split = int(test_frac * length)\n",
    "val_split = int(val_frac * length) + test_split\n",
    "test_indices = indices[:test_split]\n",
    "val_indices = indices[test_split:val_split]\n",
    "train_indices = indices[val_split:]\n",
    "\n",
    "train_x = [image_files_list[i] for i in train_indices]\n",
    "train_y = [image_class[i] for i in train_indices]\n",
    "val_x = [image_files_list[i] for i in val_indices]\n",
    "val_y = [image_class[i] for i in val_indices]\n",
    "test_x = [image_files_list[i] for i in test_indices]\n",
    "test_y = [image_class[i] for i in test_indices]\n",
    "\n",
    "print(\n",
    "    f\"Training count: {len(train_x)}, Validation count: \"\n",
    "    f\"{len(val_x)}, Test count: {len(test_x)}\")\n",
    "\"\"\""
   ]
  },
  {
   "cell_type": "markdown",
   "metadata": {
    "id": "R_B4u4zb1mDl"
   },
   "source": [
    "## Define MONAI transforms, Dataset and Dataloader to pre-process data"
   ]
  },
  {
   "cell_type": "code",
   "execution_count": 38,
   "metadata": {
    "id": "C-y0ptj91mDl"
   },
   "outputs": [],
   "source": [
    "train_transforms = Compose(\n",
    "    [\n",
    "        LoadImage(image_only=True),\n",
    "        AddChannel(),\n",
    "        ScaleIntensity(),\n",
    "        RandRotate(range_x=np.pi / 12, prob=0.5, keep_size=True),\n",
    "        RandFlip(spatial_axis=0, prob=0.5),\n",
    "        RandZoom(min_zoom=0.9, max_zoom=1.1, prob=0.5),\n",
    "        EnsureType(),\n",
    "    ]\n",
    ")\n",
    "\n",
    "val_transforms = Compose(\n",
    "    [LoadImage(image_only=True), AddChannel(), ScaleIntensity(), EnsureType()])\n",
    "\n",
    "y_pred_trans = Compose([EnsureType(), Activations(softmax=True)])\n",
    "y_trans = Compose([EnsureType(), AsDiscrete(to_onehot=num_class)])"
   ]
  },
  {
   "cell_type": "code",
   "execution_count": 39,
   "metadata": {
    "colab": {
     "base_uri": "https://localhost:8080/"
    },
    "id": "1L427Bli1mDm",
    "outputId": "337048bf-f40f-4ba3-d46d-665dc5b7f060"
   },
   "outputs": [
    {
     "name": "stderr",
     "output_type": "stream",
     "text": [
      "/usr/local/lib/python3.7/dist-packages/torch/utils/data/dataloader.py:490: UserWarning: This DataLoader will create 10 worker processes in total. Our suggested max number of worker in current system is 2, which is smaller than what this DataLoader is going to create. Please be aware that excessive worker creation might get DataLoader running slow or even freeze, lower the worker number to avoid potential slowness/freeze if necessary.\n",
      "  cpuset_checked))\n"
     ]
    }
   ],
   "source": [
    "class MedNISTDataset(torch.utils.data.Dataset):\n",
    "    def __init__(self, image_files, labels, transforms):\n",
    "        self.image_files = image_files\n",
    "        self.labels = labels\n",
    "        self.transforms = transforms\n",
    "\n",
    "    def __len__(self):\n",
    "        return len(self.image_files)\n",
    "\n",
    "    def __getitem__(self, index):\n",
    "        return self.transforms(self.image_files[index]), self.labels[index]\n",
    "\n",
    "\n",
    "train_ds = MedNISTDataset(train_x, train_y, train_transforms)\n",
    "train_loader = torch.utils.data.DataLoader(\n",
    "    train_ds, batch_size=300, shuffle=True, num_workers=10)\n",
    "\n",
    "val_ds = MedNISTDataset(val_x, val_y, val_transforms)\n",
    "val_loader = torch.utils.data.DataLoader(\n",
    "    val_ds, batch_size=300, num_workers=10)\n",
    "\n",
    "test_ds = MedNISTDataset(test_x, test_y, val_transforms)\n",
    "test_loader = torch.utils.data.DataLoader(\n",
    "    test_ds, batch_size=300, num_workers=10)"
   ]
  },
  {
   "cell_type": "markdown",
   "metadata": {
    "id": "zBHyozxK1mDm"
   },
   "source": [
    "## Define network and optimizer\n",
    "\n",
    "1. Set learning rate for how much the model is updated per batch.\n",
    "1. Set total epoch number, as we have shuffle and random transforms, so the training data of every epoch is different.  \n",
    "And as this is just a get start tutorial, let's just train 4 epochs.  \n",
    "If train 10 epochs, the model can achieve 100% accuracy on test dataset. \n",
    "1. Use DenseNet from MONAI and move to GPU devide, this DenseNet can support both 2D and 3D classification tasks.\n",
    "1. Use Adam optimizer."
   ]
  },
  {
   "cell_type": "code",
   "execution_count": 40,
   "metadata": {
    "id": "ScG0ac9q1mDm"
   },
   "outputs": [],
   "source": [
    "device = torch.device(\"cuda\" if torch.cuda.is_available() else \"cpu\")\n",
    "model = DenseNet121(spatial_dims=2, in_channels=1,\n",
    "                    out_channels=num_class).to(device)\n",
    "loss_function = torch.nn.CrossEntropyLoss()\n",
    "optimizer = torch.optim.Adam(model.parameters(), 1e-5)\n",
    "max_epochs = 4\n",
    "val_interval = 1\n",
    "auc_metric = ROCAUCMetric()"
   ]
  },
  {
   "cell_type": "markdown",
   "metadata": {
    "id": "sD5hzlee1mDm"
   },
   "source": [
    "## Model training\n",
    "\n",
    "Execute a typical PyTorch training that run epoch loop and step loop, and do validation after every epoch.  \n",
    "Will save the model weights to file if got best validation accuracy."
   ]
  },
  {
   "cell_type": "code",
   "execution_count": 41,
   "metadata": {
    "colab": {
     "base_uri": "https://localhost:8080/"
    },
    "id": "59H5mmG51mDn",
    "outputId": "ce2adff1-86dd-40c2-c219-906fc53a728d",
    "tags": []
   },
   "outputs": [
    {
     "name": "stdout",
     "output_type": "stream",
     "text": [
      "----------\n",
      "epoch 1/4\n"
     ]
    },
    {
     "name": "stderr",
     "output_type": "stream",
     "text": [
      "/usr/local/lib/python3.7/dist-packages/torch/utils/data/dataloader.py:490: UserWarning: This DataLoader will create 10 worker processes in total. Our suggested max number of worker in current system is 2, which is smaller than what this DataLoader is going to create. Please be aware that excessive worker creation might get DataLoader running slow or even freeze, lower the worker number to avoid potential slowness/freeze if necessary.\n",
      "  cpuset_checked))\n"
     ]
    },
    {
     "name": "stdout",
     "output_type": "stream",
     "text": [
      "1/117, train_loss: 1.7886\n",
      "2/117, train_loss: 1.7568\n",
      "3/117, train_loss: 1.7463\n",
      "4/117, train_loss: 1.6977\n",
      "5/117, train_loss: 1.6685\n",
      "6/117, train_loss: 1.6443\n",
      "7/117, train_loss: 1.6229\n",
      "8/117, train_loss: 1.5958\n",
      "9/117, train_loss: 1.5836\n",
      "10/117, train_loss: 1.5428\n",
      "11/117, train_loss: 1.5492\n",
      "12/117, train_loss: 1.5044\n",
      "13/117, train_loss: 1.4605\n",
      "14/117, train_loss: 1.4644\n",
      "15/117, train_loss: 1.4438\n",
      "16/117, train_loss: 1.3939\n",
      "17/117, train_loss: 1.3997\n",
      "18/117, train_loss: 1.4015\n",
      "19/117, train_loss: 1.3947\n",
      "20/117, train_loss: 1.3379\n",
      "21/117, train_loss: 1.3116\n",
      "22/117, train_loss: 1.2937\n",
      "23/117, train_loss: 1.3144\n",
      "24/117, train_loss: 1.2750\n",
      "25/117, train_loss: 1.2339\n",
      "26/117, train_loss: 1.2083\n",
      "27/117, train_loss: 1.2192\n",
      "28/117, train_loss: 1.2002\n",
      "29/117, train_loss: 1.1729\n",
      "30/117, train_loss: 1.1454\n",
      "31/117, train_loss: 1.1126\n",
      "32/117, train_loss: 1.1608\n",
      "33/117, train_loss: 1.0981\n",
      "34/117, train_loss: 1.1047\n",
      "35/117, train_loss: 1.1042\n",
      "36/117, train_loss: 1.0886\n",
      "37/117, train_loss: 1.0281\n",
      "38/117, train_loss: 1.0155\n",
      "39/117, train_loss: 1.0316\n",
      "40/117, train_loss: 1.0430\n",
      "41/117, train_loss: 0.9893\n",
      "42/117, train_loss: 0.9763\n",
      "43/117, train_loss: 0.9760\n",
      "44/117, train_loss: 0.9892\n",
      "45/117, train_loss: 0.9267\n",
      "46/117, train_loss: 0.9286\n",
      "47/117, train_loss: 0.9143\n",
      "48/117, train_loss: 0.9247\n",
      "49/117, train_loss: 0.8883\n",
      "50/117, train_loss: 0.8968\n",
      "51/117, train_loss: 0.8991\n",
      "52/117, train_loss: 0.8920\n",
      "53/117, train_loss: 0.8687\n",
      "54/117, train_loss: 0.8553\n",
      "55/117, train_loss: 0.8238\n",
      "56/117, train_loss: 0.8451\n",
      "57/117, train_loss: 0.7887\n",
      "58/117, train_loss: 0.8038\n",
      "59/117, train_loss: 0.8005\n",
      "60/117, train_loss: 0.7279\n",
      "61/117, train_loss: 0.7807\n",
      "62/117, train_loss: 0.7351\n",
      "63/117, train_loss: 0.7978\n",
      "64/117, train_loss: 0.7852\n",
      "65/117, train_loss: 0.7053\n",
      "66/117, train_loss: 0.7255\n",
      "67/117, train_loss: 0.7058\n",
      "68/117, train_loss: 0.7109\n",
      "69/117, train_loss: 0.6906\n",
      "70/117, train_loss: 0.6794\n",
      "71/117, train_loss: 0.6769\n",
      "72/117, train_loss: 0.6955\n",
      "73/117, train_loss: 0.6171\n",
      "74/117, train_loss: 0.6345\n",
      "75/117, train_loss: 0.6116\n",
      "76/117, train_loss: 0.6387\n",
      "77/117, train_loss: 0.6115\n",
      "78/117, train_loss: 0.6000\n",
      "79/117, train_loss: 0.5822\n",
      "80/117, train_loss: 0.5914\n",
      "81/117, train_loss: 0.5731\n",
      "82/117, train_loss: 0.5706\n",
      "83/117, train_loss: 0.5742\n",
      "84/117, train_loss: 0.5400\n",
      "85/117, train_loss: 0.5209\n",
      "86/117, train_loss: 0.5187\n",
      "87/117, train_loss: 0.5262\n",
      "88/117, train_loss: 0.5077\n",
      "89/117, train_loss: 0.5381\n",
      "90/117, train_loss: 0.5284\n",
      "91/117, train_loss: 0.5232\n",
      "92/117, train_loss: 0.5206\n",
      "93/117, train_loss: 0.4939\n",
      "94/117, train_loss: 0.5137\n",
      "95/117, train_loss: 0.5277\n",
      "96/117, train_loss: 0.4912\n",
      "97/117, train_loss: 0.4645\n",
      "98/117, train_loss: 0.4916\n",
      "99/117, train_loss: 0.4656\n",
      "100/117, train_loss: 0.4294\n",
      "101/117, train_loss: 0.4446\n",
      "102/117, train_loss: 0.4330\n",
      "103/117, train_loss: 0.4244\n",
      "104/117, train_loss: 0.4344\n",
      "105/117, train_loss: 0.4254\n",
      "106/117, train_loss: 0.4241\n",
      "107/117, train_loss: 0.4190\n",
      "108/117, train_loss: 0.3862\n",
      "109/117, train_loss: 0.4381\n",
      "110/117, train_loss: 0.3882\n",
      "111/117, train_loss: 0.4233\n",
      "112/117, train_loss: 0.3773\n",
      "113/117, train_loss: 0.3730\n",
      "114/117, train_loss: 0.3410\n",
      "115/117, train_loss: 0.3704\n",
      "116/117, train_loss: 0.3537\n",
      "117/117, train_loss: 0.4327\n",
      "118/117, train_loss: 0.4084\n",
      "epoch 1 average loss: 0.8734\n",
      "saved new best metric model\n",
      "current epoch: 1 current AUC: 0.9955 current accuracy: 0.9455 best AUC: 0.9955 at epoch: 1\n",
      "----------\n",
      "epoch 2/4\n",
      "1/117, train_loss: 0.3620\n",
      "2/117, train_loss: 0.3715\n",
      "3/117, train_loss: 0.3650\n",
      "4/117, train_loss: 0.3351\n",
      "5/117, train_loss: 0.3685\n",
      "6/117, train_loss: 0.3714\n",
      "7/117, train_loss: 0.3024\n",
      "8/117, train_loss: 0.3134\n",
      "9/117, train_loss: 0.3620\n",
      "10/117, train_loss: 0.3125\n",
      "11/117, train_loss: 0.3779\n",
      "12/117, train_loss: 0.3388\n",
      "13/117, train_loss: 0.3236\n",
      "14/117, train_loss: 0.3150\n",
      "15/117, train_loss: 0.2903\n",
      "16/117, train_loss: 0.3422\n",
      "17/117, train_loss: 0.2942\n",
      "18/117, train_loss: 0.3220\n",
      "19/117, train_loss: 0.2950\n",
      "20/117, train_loss: 0.2799\n",
      "21/117, train_loss: 0.2806\n",
      "22/117, train_loss: 0.3126\n",
      "23/117, train_loss: 0.3197\n",
      "24/117, train_loss: 0.2534\n",
      "25/117, train_loss: 0.2782\n",
      "26/117, train_loss: 0.2728\n",
      "27/117, train_loss: 0.2818\n",
      "28/117, train_loss: 0.2625\n",
      "29/117, train_loss: 0.2466\n",
      "30/117, train_loss: 0.2484\n",
      "31/117, train_loss: 0.2625\n",
      "32/117, train_loss: 0.2461\n",
      "33/117, train_loss: 0.2505\n",
      "34/117, train_loss: 0.2566\n",
      "35/117, train_loss: 0.2576\n",
      "36/117, train_loss: 0.2255\n",
      "37/117, train_loss: 0.2581\n",
      "38/117, train_loss: 0.2687\n",
      "39/117, train_loss: 0.2302\n",
      "40/117, train_loss: 0.2230\n",
      "41/117, train_loss: 0.2487\n",
      "42/117, train_loss: 0.2328\n",
      "43/117, train_loss: 0.2424\n",
      "44/117, train_loss: 0.2657\n",
      "45/117, train_loss: 0.2371\n",
      "46/117, train_loss: 0.2282\n",
      "47/117, train_loss: 0.2431\n",
      "48/117, train_loss: 0.2390\n",
      "49/117, train_loss: 0.2140\n",
      "50/117, train_loss: 0.2304\n",
      "51/117, train_loss: 0.2975\n",
      "52/117, train_loss: 0.2352\n",
      "53/117, train_loss: 0.2240\n",
      "54/117, train_loss: 0.2357\n",
      "55/117, train_loss: 0.2194\n",
      "56/117, train_loss: 0.2302\n",
      "57/117, train_loss: 0.2064\n",
      "58/117, train_loss: 0.1965\n",
      "59/117, train_loss: 0.1824\n",
      "60/117, train_loss: 0.1784\n",
      "61/117, train_loss: 0.2023\n",
      "62/117, train_loss: 0.2318\n",
      "63/117, train_loss: 0.1832\n",
      "64/117, train_loss: 0.1797\n",
      "65/117, train_loss: 0.1913\n",
      "66/117, train_loss: 0.2054\n",
      "67/117, train_loss: 0.2073\n",
      "68/117, train_loss: 0.1933\n",
      "69/117, train_loss: 0.1744\n",
      "70/117, train_loss: 0.2073\n",
      "71/117, train_loss: 0.1804\n",
      "72/117, train_loss: 0.2165\n",
      "73/117, train_loss: 0.1692\n",
      "74/117, train_loss: 0.2262\n",
      "75/117, train_loss: 0.1908\n",
      "76/117, train_loss: 0.1576\n",
      "77/117, train_loss: 0.1980\n",
      "78/117, train_loss: 0.1715\n",
      "79/117, train_loss: 0.1850\n",
      "80/117, train_loss: 0.1746\n",
      "81/117, train_loss: 0.1843\n",
      "82/117, train_loss: 0.1711\n",
      "83/117, train_loss: 0.1562\n",
      "84/117, train_loss: 0.1783\n",
      "85/117, train_loss: 0.1478\n",
      "86/117, train_loss: 0.1538\n",
      "87/117, train_loss: 0.1595\n",
      "88/117, train_loss: 0.1709\n",
      "89/117, train_loss: 0.1424\n",
      "90/117, train_loss: 0.1427\n",
      "91/117, train_loss: 0.1702\n",
      "92/117, train_loss: 0.1565\n",
      "93/117, train_loss: 0.1411\n",
      "94/117, train_loss: 0.1424\n",
      "95/117, train_loss: 0.1455\n",
      "96/117, train_loss: 0.1730\n",
      "97/117, train_loss: 0.1414\n",
      "98/117, train_loss: 0.1595\n",
      "99/117, train_loss: 0.1685\n",
      "100/117, train_loss: 0.1678\n",
      "101/117, train_loss: 0.1331\n",
      "102/117, train_loss: 0.1199\n",
      "103/117, train_loss: 0.1447\n",
      "104/117, train_loss: 0.1352\n",
      "105/117, train_loss: 0.1637\n",
      "106/117, train_loss: 0.1305\n",
      "107/117, train_loss: 0.1536\n",
      "108/117, train_loss: 0.1621\n",
      "109/117, train_loss: 0.1336\n",
      "110/117, train_loss: 0.1295\n",
      "111/117, train_loss: 0.1303\n",
      "112/117, train_loss: 0.1551\n",
      "113/117, train_loss: 0.1355\n",
      "114/117, train_loss: 0.1332\n",
      "115/117, train_loss: 0.1274\n",
      "116/117, train_loss: 0.1136\n",
      "117/117, train_loss: 0.1726\n",
      "118/117, train_loss: 0.1295\n",
      "epoch 2 average loss: 0.2202\n",
      "saved new best metric model\n",
      "current epoch: 2 current AUC: 0.9994 current accuracy: 0.9756 best AUC: 0.9994 at epoch: 2\n",
      "----------\n",
      "epoch 3/4\n",
      "1/117, train_loss: 0.1313\n",
      "2/117, train_loss: 0.1153\n",
      "3/117, train_loss: 0.1170\n",
      "4/117, train_loss: 0.1129\n",
      "5/117, train_loss: 0.1271\n",
      "6/117, train_loss: 0.1329\n",
      "7/117, train_loss: 0.1463\n",
      "8/117, train_loss: 0.1294\n",
      "9/117, train_loss: 0.1195\n",
      "10/117, train_loss: 0.1427\n",
      "11/117, train_loss: 0.1107\n",
      "12/117, train_loss: 0.1081\n",
      "13/117, train_loss: 0.1340\n",
      "14/117, train_loss: 0.1167\n",
      "15/117, train_loss: 0.1385\n",
      "16/117, train_loss: 0.1171\n",
      "17/117, train_loss: 0.1382\n",
      "18/117, train_loss: 0.1365\n",
      "19/117, train_loss: 0.0979\n",
      "20/117, train_loss: 0.1381\n",
      "21/117, train_loss: 0.1077\n",
      "22/117, train_loss: 0.1224\n",
      "23/117, train_loss: 0.1235\n",
      "24/117, train_loss: 0.1374\n",
      "25/117, train_loss: 0.0972\n",
      "26/117, train_loss: 0.1159\n",
      "27/117, train_loss: 0.1112\n",
      "28/117, train_loss: 0.1173\n",
      "29/117, train_loss: 0.1366\n",
      "30/117, train_loss: 0.1065\n",
      "31/117, train_loss: 0.1324\n",
      "32/117, train_loss: 0.1202\n",
      "33/117, train_loss: 0.1381\n",
      "34/117, train_loss: 0.1349\n",
      "35/117, train_loss: 0.1193\n",
      "36/117, train_loss: 0.1091\n",
      "37/117, train_loss: 0.0835\n",
      "38/117, train_loss: 0.0940\n",
      "39/117, train_loss: 0.0916\n",
      "40/117, train_loss: 0.1180\n",
      "41/117, train_loss: 0.1201\n",
      "42/117, train_loss: 0.1043\n",
      "43/117, train_loss: 0.1073\n",
      "44/117, train_loss: 0.0974\n",
      "45/117, train_loss: 0.0903\n",
      "46/117, train_loss: 0.1039\n",
      "47/117, train_loss: 0.1260\n",
      "48/117, train_loss: 0.1568\n",
      "49/117, train_loss: 0.0816\n",
      "50/117, train_loss: 0.1124\n",
      "51/117, train_loss: 0.1017\n",
      "52/117, train_loss: 0.1019\n",
      "53/117, train_loss: 0.1058\n",
      "54/117, train_loss: 0.1115\n",
      "55/117, train_loss: 0.0880\n",
      "56/117, train_loss: 0.1045\n",
      "57/117, train_loss: 0.0895\n",
      "58/117, train_loss: 0.0765\n",
      "59/117, train_loss: 0.0931\n",
      "60/117, train_loss: 0.1060\n",
      "61/117, train_loss: 0.1009\n",
      "62/117, train_loss: 0.0914\n",
      "63/117, train_loss: 0.1072\n",
      "64/117, train_loss: 0.0795\n",
      "65/117, train_loss: 0.0852\n",
      "66/117, train_loss: 0.1016\n",
      "67/117, train_loss: 0.0974\n",
      "68/117, train_loss: 0.0976\n",
      "69/117, train_loss: 0.1210\n",
      "70/117, train_loss: 0.1074\n",
      "71/117, train_loss: 0.0971\n",
      "72/117, train_loss: 0.0948\n",
      "73/117, train_loss: 0.0716\n",
      "74/117, train_loss: 0.0759\n",
      "75/117, train_loss: 0.0667\n",
      "76/117, train_loss: 0.0885\n",
      "77/117, train_loss: 0.0947\n",
      "78/117, train_loss: 0.0822\n",
      "79/117, train_loss: 0.0942\n",
      "80/117, train_loss: 0.0734\n",
      "81/117, train_loss: 0.0846\n",
      "82/117, train_loss: 0.1057\n",
      "83/117, train_loss: 0.0812\n",
      "84/117, train_loss: 0.0833\n",
      "85/117, train_loss: 0.0990\n",
      "86/117, train_loss: 0.0835\n",
      "87/117, train_loss: 0.0836\n",
      "88/117, train_loss: 0.0735\n",
      "89/117, train_loss: 0.0717\n",
      "90/117, train_loss: 0.0903\n",
      "91/117, train_loss: 0.0773\n",
      "92/117, train_loss: 0.0950\n",
      "93/117, train_loss: 0.0958\n",
      "94/117, train_loss: 0.0858\n",
      "95/117, train_loss: 0.0786\n",
      "96/117, train_loss: 0.0788\n",
      "97/117, train_loss: 0.0735\n",
      "98/117, train_loss: 0.0567\n",
      "99/117, train_loss: 0.0940\n",
      "100/117, train_loss: 0.0931\n",
      "101/117, train_loss: 0.0748\n",
      "102/117, train_loss: 0.0711\n",
      "103/117, train_loss: 0.0723\n",
      "104/117, train_loss: 0.0842\n",
      "105/117, train_loss: 0.0799\n",
      "106/117, train_loss: 0.0842\n",
      "107/117, train_loss: 0.0762\n",
      "108/117, train_loss: 0.0728\n",
      "109/117, train_loss: 0.0859\n",
      "110/117, train_loss: 0.0610\n",
      "111/117, train_loss: 0.0812\n",
      "112/117, train_loss: 0.0869\n",
      "113/117, train_loss: 0.0843\n",
      "114/117, train_loss: 0.0588\n",
      "115/117, train_loss: 0.0732\n",
      "116/117, train_loss: 0.0656\n",
      "117/117, train_loss: 0.0790\n",
      "118/117, train_loss: 0.0529\n",
      "epoch 3 average loss: 0.0997\n",
      "saved new best metric model\n",
      "current epoch: 3 current AUC: 0.9998 current accuracy: 0.9887 best AUC: 0.9998 at epoch: 3\n",
      "----------\n",
      "epoch 4/4\n",
      "1/117, train_loss: 0.0668\n",
      "2/117, train_loss: 0.0649\n",
      "3/117, train_loss: 0.0644\n",
      "4/117, train_loss: 0.0564\n",
      "5/117, train_loss: 0.0665\n",
      "6/117, train_loss: 0.0806\n",
      "7/117, train_loss: 0.0626\n",
      "8/117, train_loss: 0.0945\n",
      "9/117, train_loss: 0.0495\n",
      "10/117, train_loss: 0.0759\n",
      "11/117, train_loss: 0.0810\n",
      "12/117, train_loss: 0.0989\n",
      "13/117, train_loss: 0.0673\n",
      "14/117, train_loss: 0.0631\n",
      "15/117, train_loss: 0.0799\n",
      "16/117, train_loss: 0.0623\n",
      "17/117, train_loss: 0.0491\n",
      "18/117, train_loss: 0.0847\n",
      "19/117, train_loss: 0.0785\n",
      "20/117, train_loss: 0.0808\n",
      "21/117, train_loss: 0.0864\n",
      "22/117, train_loss: 0.0767\n",
      "23/117, train_loss: 0.0631\n",
      "24/117, train_loss: 0.0800\n",
      "25/117, train_loss: 0.0758\n",
      "26/117, train_loss: 0.0499\n",
      "27/117, train_loss: 0.0784\n",
      "28/117, train_loss: 0.0457\n",
      "29/117, train_loss: 0.0491\n",
      "30/117, train_loss: 0.0651\n",
      "31/117, train_loss: 0.0593\n",
      "32/117, train_loss: 0.0610\n",
      "33/117, train_loss: 0.0458\n",
      "34/117, train_loss: 0.0775\n",
      "35/117, train_loss: 0.0966\n",
      "36/117, train_loss: 0.0748\n",
      "37/117, train_loss: 0.0647\n",
      "38/117, train_loss: 0.0623\n",
      "39/117, train_loss: 0.0828\n",
      "40/117, train_loss: 0.0472\n",
      "41/117, train_loss: 0.0613\n",
      "42/117, train_loss: 0.0439\n",
      "43/117, train_loss: 0.0788\n",
      "44/117, train_loss: 0.0631\n",
      "45/117, train_loss: 0.0731\n",
      "46/117, train_loss: 0.1063\n",
      "47/117, train_loss: 0.0743\n",
      "48/117, train_loss: 0.0662\n",
      "49/117, train_loss: 0.0541\n",
      "50/117, train_loss: 0.0537\n",
      "51/117, train_loss: 0.0547\n",
      "52/117, train_loss: 0.0435\n",
      "53/117, train_loss: 0.0467\n",
      "54/117, train_loss: 0.0568\n",
      "55/117, train_loss: 0.0579\n",
      "56/117, train_loss: 0.0611\n",
      "57/117, train_loss: 0.0508\n",
      "58/117, train_loss: 0.0559\n",
      "59/117, train_loss: 0.0716\n",
      "60/117, train_loss: 0.0385\n",
      "61/117, train_loss: 0.0449\n",
      "62/117, train_loss: 0.0451\n",
      "63/117, train_loss: 0.0555\n",
      "64/117, train_loss: 0.0544\n",
      "65/117, train_loss: 0.0490\n",
      "66/117, train_loss: 0.0836\n",
      "67/117, train_loss: 0.0733\n",
      "68/117, train_loss: 0.0588\n",
      "69/117, train_loss: 0.0486\n",
      "70/117, train_loss: 0.0454\n",
      "71/117, train_loss: 0.0456\n",
      "72/117, train_loss: 0.0595\n",
      "73/117, train_loss: 0.0680\n",
      "74/117, train_loss: 0.0561\n",
      "75/117, train_loss: 0.0591\n",
      "76/117, train_loss: 0.0389\n",
      "77/117, train_loss: 0.0446\n",
      "78/117, train_loss: 0.0490\n",
      "79/117, train_loss: 0.0487\n",
      "80/117, train_loss: 0.0652\n",
      "81/117, train_loss: 0.0563\n",
      "82/117, train_loss: 0.0842\n",
      "83/117, train_loss: 0.0460\n",
      "84/117, train_loss: 0.0675\n",
      "85/117, train_loss: 0.0535\n",
      "86/117, train_loss: 0.0615\n",
      "87/117, train_loss: 0.0501\n",
      "88/117, train_loss: 0.0550\n",
      "89/117, train_loss: 0.0504\n",
      "90/117, train_loss: 0.0551\n",
      "91/117, train_loss: 0.0497\n",
      "92/117, train_loss: 0.0481\n",
      "93/117, train_loss: 0.0426\n",
      "94/117, train_loss: 0.0365\n",
      "95/117, train_loss: 0.0438\n",
      "96/117, train_loss: 0.0467\n",
      "97/117, train_loss: 0.0492\n",
      "98/117, train_loss: 0.0637\n",
      "99/117, train_loss: 0.0669\n",
      "100/117, train_loss: 0.0458\n",
      "101/117, train_loss: 0.0545\n",
      "102/117, train_loss: 0.0401\n",
      "103/117, train_loss: 0.0687\n",
      "104/117, train_loss: 0.0419\n",
      "105/117, train_loss: 0.0474\n",
      "106/117, train_loss: 0.0350\n",
      "107/117, train_loss: 0.0548\n",
      "108/117, train_loss: 0.0350\n",
      "109/117, train_loss: 0.0622\n",
      "110/117, train_loss: 0.0502\n",
      "111/117, train_loss: 0.0485\n",
      "112/117, train_loss: 0.0449\n",
      "113/117, train_loss: 0.0401\n",
      "114/117, train_loss: 0.0459\n",
      "115/117, train_loss: 0.0409\n",
      "116/117, train_loss: 0.0579\n",
      "117/117, train_loss: 0.0626\n",
      "118/117, train_loss: 0.0674\n",
      "epoch 4 average loss: 0.0597\n",
      "saved new best metric model\n",
      "current epoch: 4 current AUC: 0.9999 current accuracy: 0.9918 best AUC: 0.9999 at epoch: 4\n",
      "train completed, best_metric: 0.9999 at epoch: 4\n"
     ]
    }
   ],
   "source": [
    "best_metric = -1\n",
    "best_metric_epoch = -1\n",
    "epoch_loss_values = []\n",
    "metric_values = []\n",
    "\n",
    "for epoch in range(max_epochs):\n",
    "    print(\"-\" * 10)\n",
    "    print(f\"epoch {epoch + 1}/{max_epochs}\")\n",
    "    model.train()\n",
    "    epoch_loss = 0\n",
    "    step = 0\n",
    "    for batch_data in train_loader:\n",
    "        step += 1\n",
    "        inputs, labels = batch_data[0].to(device), batch_data[1].to(device)\n",
    "        optimizer.zero_grad()\n",
    "        outputs = model(inputs)\n",
    "        loss = loss_function(outputs, labels)\n",
    "        loss.backward()\n",
    "        optimizer.step()\n",
    "        epoch_loss += loss.item()\n",
    "        print(\n",
    "            f\"{step}/{len(train_ds) // train_loader.batch_size}, \"\n",
    "            f\"train_loss: {loss.item():.4f}\")\n",
    "        epoch_len = len(train_ds) // train_loader.batch_size\n",
    "    epoch_loss /= step\n",
    "    epoch_loss_values.append(epoch_loss)\n",
    "    print(f\"epoch {epoch + 1} average loss: {epoch_loss:.4f}\")\n",
    "\n",
    "    if (epoch + 1) % val_interval == 0:\n",
    "        model.eval()\n",
    "        with torch.no_grad():\n",
    "            y_pred = torch.tensor([], dtype=torch.float32, device=device)\n",
    "            y = torch.tensor([], dtype=torch.long, device=device)\n",
    "            for val_data in val_loader:\n",
    "                val_images, val_labels = (\n",
    "                    val_data[0].to(device),\n",
    "                    val_data[1].to(device),\n",
    "                )\n",
    "                y_pred = torch.cat([y_pred, model(val_images)], dim=0)\n",
    "                y = torch.cat([y, val_labels], dim=0)\n",
    "            y_onehot = [y_trans(i) for i in decollate_batch(y)]\n",
    "            y_pred_act = [y_pred_trans(i) for i in decollate_batch(y_pred)]\n",
    "            auc_metric(y_pred_act, y_onehot)\n",
    "            result = auc_metric.aggregate()\n",
    "            auc_metric.reset()\n",
    "            del y_pred_act, y_onehot\n",
    "            metric_values.append(result)\n",
    "            acc_value = torch.eq(y_pred.argmax(dim=1), y)\n",
    "            acc_metric = acc_value.sum().item() / len(acc_value)\n",
    "            if result > best_metric:\n",
    "                best_metric = result\n",
    "                best_metric_epoch = epoch + 1\n",
    "                torch.save(model.state_dict(), os.path.join(\n",
    "                    root_dir, \"best_metric_model.pth\"))\n",
    "                print(\"saved new best metric model\")\n",
    "            print(\n",
    "                f\"current epoch: {epoch + 1} current AUC: {result:.4f}\"\n",
    "                f\" current accuracy: {acc_metric:.4f}\"\n",
    "                f\" best AUC: {best_metric:.4f}\"\n",
    "                f\" at epoch: {best_metric_epoch}\"\n",
    "            )\n",
    "\n",
    "print(\n",
    "    f\"train completed, best_metric: {best_metric:.4f} \"\n",
    "    f\"at epoch: {best_metric_epoch}\")"
   ]
  },
  {
   "cell_type": "markdown",
   "metadata": {
    "id": "VojM2IGp1mDn"
   },
   "source": [
    "## Plot the loss and metric"
   ]
  },
  {
   "cell_type": "code",
   "execution_count": 42,
   "metadata": {
    "colab": {
     "base_uri": "https://localhost:8080/",
     "height": 404
    },
    "id": "t2Jk2r0M1mDn",
    "outputId": "b84d34b1-86bf-490c-b955-578f68f82a0a"
   },
   "outputs": [
    {
     "data": {
      "image/png": "[encoded data removed]",
      "text/plain": [
       "<Figure size 864x432 with 2 Axes>"
      ]
     },
     "metadata": {
      "needs_background": "light"
     },
     "output_type": "display_data"
    }
   ],
   "source": [
    "plt.figure(\"train\", (12, 6))\n",
    "plt.subplot(1, 2, 1)\n",
    "plt.title(\"Epoch Average Loss\")\n",
    "x = [i + 1 for i in range(len(epoch_loss_values))]\n",
    "y = epoch_loss_values\n",
    "plt.xlabel(\"epoch\")\n",
    "plt.plot(x, y)\n",
    "plt.subplot(1, 2, 2)\n",
    "plt.title(\"Val AUC\")\n",
    "x = [val_interval * (i + 1) for i in range(len(metric_values))]\n",
    "y = metric_values\n",
    "plt.xlabel(\"epoch\")\n",
    "plt.plot(x, y)\n",
    "plt.show()"
   ]
  },
  {
   "cell_type": "markdown",
   "metadata": {
    "id": "IHTpzLgv1mDo"
   },
   "source": [
    "## Evaluate the model on test dataset\n",
    "\n",
    "After training and validation, we already got the best model on validation test.  \n",
    "We need to evaluate the model on test dataset to check whether it's robust and not over-fitting.  \n",
    "We'll use these predictions to generate a classification report."
   ]
  },
  {
   "cell_type": "code",
   "execution_count": 43,
   "metadata": {
    "colab": {
     "base_uri": "https://localhost:8080/"
    },
    "id": "pc7rXpbXphIU",
    "outputId": "05c0559b-333f-4276-c18a-4f141249e652"
   },
   "outputs": [
    {
     "name": "stdout",
     "output_type": "stream",
     "text": [
      "Mounted at /content/drive\n"
     ]
    }
   ],
   "source": [
    "from google.colab import drive\n",
    "drive.mount('/content/drive')"
   ]
  },
  {
   "cell_type": "code",
   "execution_count": 44,
   "metadata": {
    "colab": {
     "base_uri": "https://localhost:8080/"
    },
    "id": "y5ypE-vw1mDo",
    "outputId": "eb1c96f1-a580-4f94-e236-cad8bc69a243"
   },
   "outputs": [
    {
     "name": "stderr",
     "output_type": "stream",
     "text": [
      "/usr/local/lib/python3.7/dist-packages/torch/utils/data/dataloader.py:490: UserWarning: This DataLoader will create 10 worker processes in total. Our suggested max number of worker in current system is 2, which is smaller than what this DataLoader is going to create. Please be aware that excessive worker creation might get DataLoader running slow or even freeze, lower the worker number to avoid potential slowness/freeze if necessary.\n",
      "  cpuset_checked))\n"
     ]
    }
   ],
   "source": [
    "model.load_state_dict(torch.load(\n",
    "    os.path.join(root_dir, \"best_metric_model.pth\")))\n",
    "model.eval()\n",
    "y_true = []\n",
    "y_pred = []\n",
    "with torch.no_grad():\n",
    "    for test_data in test_loader:\n",
    "        test_images, test_labels = (\n",
    "            test_data[0].to(device),\n",
    "            test_data[1].to(device),\n",
    "        )\n",
    "        pred = model(test_images).argmax(dim=1)\n",
    "        for i in range(len(pred)):\n",
    "            y_true.append(test_labels[i].item())\n",
    "            y_pred.append(pred[i].item())"
   ]
  },
  {
   "cell_type": "code",
   "execution_count": 45,
   "metadata": {
    "colab": {
     "base_uri": "https://localhost:8080/"
    },
    "id": "D14I_-f11mDo",
    "outputId": "88bf2f96-c0d3-4f0f-b2d0-47b9c85d4cdc",
    "tags": []
   },
   "outputs": [
    {
     "name": "stdout",
     "output_type": "stream",
     "text": [
      "              precision    recall  f1-score   support\n",
      "\n",
      "   AbdomenCT     0.9909    0.9839    0.9874      1992\n",
      "   BreastMRI     0.9945    0.9923    0.9934      1820\n",
      "         CXR     0.9995    0.9915    0.9955      1992\n",
      "     ChestCT     0.9900    1.0000    0.9950      1975\n",
      "        Hand     0.9916    0.9897    0.9906      2033\n",
      "      HeadCT     0.9870    0.9960    0.9915      1980\n",
      "\n",
      "    accuracy                         0.9922     11792\n",
      "   macro avg     0.9922    0.9922    0.9922     11792\n",
      "weighted avg     0.9922    0.9922    0.9922     11792\n",
      "\n"
     ]
    }
   ],
   "source": [
    "print(classification_report(\n",
    "    y_true, y_pred, target_names=class_names, digits=4))"
   ]
  },
  {
   "cell_type": "markdown",
   "metadata": {
    "id": "62BQ5V481mDo"
   },
   "source": [
    "## Cleanup data directory\n",
    "\n",
    "Remove directory if a temporary was used."
   ]
  },
  {
   "cell_type": "code",
   "execution_count": 45,
   "metadata": {
    "id": "PgM4_RAw1mDp"
   },
   "outputs": [],
   "source": []
  }
 ],
 "metadata": {
  "colab": {
   "collapsed_sections": [],
   "name": "mednist_tutorial.ipynb",
   "provenance": []
  },
  "kernelspec": {
   "display_name": "Python 3 (ipykernel)",
   "language": "python",
   "name": "python3"
  },
  "language_info": {
   "codemirror_mode": {
    "name": "ipython",
    "version": 3
   },
   "file_extension": ".py",
   "mimetype": "text/x-python",
   "name": "python",
   "nbconvert_exporter": "python",
   "pygments_lexer": "ipython3",
   "version": "3.9.12"
  }
 },
 "nbformat": 4,
 "nbformat_minor": 1
}
